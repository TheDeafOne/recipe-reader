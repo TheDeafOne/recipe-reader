{
 "cells": [
  {
   "cell_type": "code",
   "execution_count": 5,
   "metadata": {},
   "outputs": [],
   "source": [
    "import fitz\n",
    "import easyocr"
   ]
  },
  {
   "cell_type": "code",
   "execution_count": 8,
   "metadata": {},
   "outputs": [],
   "source": [
    "\n",
    "test_pdf_path = \"./recipes/unparsed/02-soups.pdf\"\n",
    "doc = fitz.open(test_pdf_path)\n",
    "zoom = 10\n",
    "mat = fitz.Matrix(zoom, zoom)\n",
    "count = 0\n",
    "# Count variable is to get the number of pages in the pdf\n",
    "for p in doc:\n",
    "    count += 1\n",
    "for i in range(count):\n",
    "    val = f\"image_{i+1}.png\"\n",
    "    page = doc.load_page(i)\n",
    "    pix = page.get_pixmap(matrix=mat)\n",
    "    pix.save(val)\n",
    "    break\n",
    "doc.close()"
   ]
  },
  {
   "cell_type": "code",
   "execution_count": 8,
   "metadata": {},
   "outputs": [
    {
     "name": "stderr",
     "output_type": "stream",
     "text": [
      "Neither CUDA nor MPS are available - defaulting to CPU. Note: This module is much faster with a GPU.\n"
     ]
    }
   ],
   "source": [
    "\n",
    "reader = easyocr.Reader(['en'])\n",
    "result = reader.readtext(\"image_3.png\", detail=0)"
   ]
  },
  {
   "cell_type": "code",
   "execution_count": 9,
   "metadata": {},
   "outputs": [
    {
     "data": {
      "text/plain": [
       "'CREAmV Tor ATO Souf COP C fwist CAFE Dn The Pioneer (ema} 6 303014 freshly prepared soups , galads & sandwiches brewed to ordler loose-leaf locally roasted coffee 83300 A3 Jen2 MSS % Purchase five cups of tea and receive complimentary 1602 Tea or Colfee Ncmeg%icn Canxied ~A lcGp Ccix Tovdtoes &(yskec Txbes (RareeeD (cr 3 26 #lc 4 Ckss (ieed ~viituc$ Opuah Tzatecs 4\" Jorx Z5 Tblsp & Her Cer Onrs 2 mkd owieh@ehpec.D +37bkp Huk Fcwt 00 BzcciSyir PAn: b Cannelze Ovucns 4 Sult Pai fb1s0 @heke\" \\'By+nak JeaScnii\"g Ya & ShenM Heiv Cxedmy 3 & Ytlhz 4,: V iuice TEA Bar (rom Plus 062 tea Use 0l tis Creon-| 20 Enicctz) Resteurant 2yurk kijeai 28 2 huv- Scte Geic Pwx\"& & {ozea7 Lockin5 02'"
      ]
     },
     "execution_count": 9,
     "metadata": {},
     "output_type": "execute_result"
    }
   ],
   "source": [
    "' '.join(result)"
   ]
  },
  {
   "cell_type": "code",
   "execution_count": 10,
   "metadata": {},
   "outputs": [],
   "source": [
    "import pytesseract\n",
    "from PIL import Image\n"
   ]
  },
  {
   "cell_type": "code",
   "execution_count": 11,
   "metadata": {},
   "outputs": [
    {
     "data": {
      "text/plain": [
       "'a Cap a\\n\\naa\\n\\nae\\n\\nuy x”\\n\\nLif ow Hear “I de we\\n\\n'"
      ]
     },
     "execution_count": 11,
     "metadata": {},
     "output_type": "execute_result"
    }
   ],
   "source": [
    "pytesseract.image_to_string(Image.open('image_3.png'))"
   ]
  },
  {
   "cell_type": "code",
   "execution_count": null,
   "metadata": {},
   "outputs": [],
   "source": []
  }
 ],
 "metadata": {
  "kernelspec": {
   "display_name": "3.9.13",
   "language": "python",
   "name": "python3"
  },
  "language_info": {
   "codemirror_mode": {
    "name": "ipython",
    "version": 3
   },
   "file_extension": ".py",
   "mimetype": "text/x-python",
   "name": "python",
   "nbconvert_exporter": "python",
   "pygments_lexer": "ipython3",
   "version": "3.9.13"
  }
 },
 "nbformat": 4,
 "nbformat_minor": 2
}
